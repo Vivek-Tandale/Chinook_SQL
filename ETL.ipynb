{
 "cells": [
  {
   "cell_type": "code",
   "execution_count": 5,
   "metadata": {},
   "outputs": [],
   "source": [
    "import pandas as pd"
   ]
  },
  {
   "cell_type": "code",
   "execution_count": 6,
   "metadata": {},
   "outputs": [],
   "source": [
    "df1 = pd.read_csv(\"Data csv/Album.csv\")\n",
    "df2 = pd.read_csv(\"Data csv/Artist.csv\")\n",
    "df3 = pd.read_csv(\"Data csv/Customer.csv\")\n",
    "df4 = pd.read_csv(\"Data csv/Employee.csv\")\n",
    "df5 = pd.read_csv(\"Data csv/Genre.csv\")\n",
    "df6 = pd.read_csv(\"Data csv/Invoice.csv\")\n",
    "df7 = pd.read_csv(\"Data csv/InvoiceLine.csv\")\n",
    "df8 = pd.read_csv(\"Data csv/MediaType.csv\")\n",
    "df9 = pd.read_csv(\"Data csv/Playlist.csv\")\n",
    "df10 = pd.read_csv(\"Data csv/PlaylistTrack.csv\")\n",
    "df11 = pd.read_csv(\"Data csv/Track.csv\")"
   ]
  },
  {
   "cell_type": "code",
   "execution_count": 7,
   "metadata": {},
   "outputs": [],
   "source": [
    "from sqlalchemy import create_engine\n",
    "\n",
    "user = 'root'\n",
    "password = '1234'\n",
    "host = '127.0.0.1'\n",
    "port = 3306\n",
    "database = 'chinook'\n",
    "\n",
    "engine = create_engine(\n",
    "    url=\"mysql+pymysql://{0}:{1}@{2}:{3}/{4}\".format(\n",
    "        user, password, host, port, database\n",
    "        )\n",
    "    )"
   ]
  },
  {
   "cell_type": "code",
   "execution_count": 8,
   "metadata": {},
   "outputs": [
    {
     "data": {
      "text/plain": [
       "3503"
      ]
     },
     "execution_count": 8,
     "metadata": {},
     "output_type": "execute_result"
    }
   ],
   "source": [
    "df1.to_sql(name=\"album\",con=engine,if_exists=\"replace\",index=False,chunksize=2000)\n",
    "df2.to_sql(name=\"artist\",con=engine,if_exists=\"replace\",index=False,chunksize=2000)\n",
    "df3.to_sql(name=\"customer\",con=engine,if_exists=\"replace\",index=False,chunksize=2000)\n",
    "df4.to_sql(name=\"employee\",con=engine,if_exists=\"replace\",index=False,chunksize=2000)\n",
    "df5.to_sql(name=\"genre\",con=engine,if_exists=\"replace\",index=False,chunksize=2000)\n",
    "df6.to_sql(name=\"invoice\",con=engine,if_exists=\"replace\",index=False,chunksize=2000)\n",
    "df7.to_sql(name=\"invoice_line\",con=engine,if_exists=\"replace\",index=False,chunksize=2000)\n",
    "df8.to_sql(name=\"media_type\",con=engine,if_exists=\"replace\",index=False,chunksize=2000)\n",
    "df9.to_sql(name=\"playlist\",con=engine,if_exists=\"replace\",index=False,chunksize=2000)\n",
    "df10.to_sql(name=\"playlist_track\",con=engine,if_exists=\"replace\",index=False,chunksize=2000)\n",
    "df11.to_sql(name=\"track\",con=engine,if_exists=\"replace\",index=False,chunksize=2000)"
   ]
  }
 ],
 "metadata": {
  "kernelspec": {
   "display_name": "ML",
   "language": "python",
   "name": "python3"
  },
  "language_info": {
   "codemirror_mode": {
    "name": "ipython",
    "version": 3
   },
   "file_extension": ".py",
   "mimetype": "text/x-python",
   "name": "python",
   "nbconvert_exporter": "python",
   "pygments_lexer": "ipython3",
   "version": "3.11.5"
  }
 },
 "nbformat": 4,
 "nbformat_minor": 2
}
